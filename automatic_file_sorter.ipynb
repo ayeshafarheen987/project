{
 "cells": [
  {
   "cell_type": "markdown",
   "id": "82097715-c1d9-440e-ae9e-c5e63dad122d",
   "metadata": {},
   "source": [
    "# Automatic File Sorter in File Explorer"
   ]
  },
  {
   "cell_type": "code",
   "execution_count": 36,
   "id": "c0d777ef-6236-43f4-8897-a1712999e2b1",
   "metadata": {},
   "outputs": [],
   "source": [
    "import os,shutil"
   ]
  },
  {
   "cell_type": "code",
   "execution_count": 43,
   "id": "4d9512d2-aeac-4254-911b-f0e8311267d9",
   "metadata": {},
   "outputs": [],
   "source": [
    "path = r\"C:/Users/LENOVO X1 YOGA/Desktop/py_program/\""
   ]
  },
  {
   "cell_type": "code",
   "execution_count": 44,
   "id": "9b49e10f-4875-4467-aa66-6eac627a8067",
   "metadata": {},
   "outputs": [],
   "source": [
    "file_name=os.listdir(path)"
   ]
  },
  {
   "cell_type": "code",
   "execution_count": 45,
   "id": "86ccd1d1-632d-4d6a-9c8f-c74a11803b7c",
   "metadata": {},
   "outputs": [
    {
     "data": {
      "text/plain": [
       "['dataframe_.csv',\n",
       " 'heart_failure_clinical_records_dataset.csv',\n",
       " 'Screenshot (21).png',\n",
       " 'sign language.pdf',\n",
       " 'Snapchat-1372555506.jpg',\n",
       " 'WIN_20220923_11_43_01_Pro.jpg']"
      ]
     },
     "execution_count": 45,
     "metadata": {},
     "output_type": "execute_result"
    }
   ],
   "source": [
    "file_name"
   ]
  },
  {
   "cell_type": "code",
   "execution_count": 46,
   "id": "4167ff0c-550f-4a60-89b0-48929b04bac2",
   "metadata": {},
   "outputs": [
    {
     "data": {
      "text/plain": [
       "False"
      ]
     },
     "execution_count": 46,
     "metadata": {},
     "output_type": "execute_result"
    }
   ],
   "source": [
    "os.path.exists(path+'csv files')"
   ]
  },
  {
   "cell_type": "code",
   "execution_count": 49,
   "id": "691708e2-c408-4960-ab04-226031d9e011",
   "metadata": {},
   "outputs": [
    {
     "name": "stdout",
     "output_type": "stream",
     "text": [
      "there are files in this path that were not moved\n",
      "there are files in this path that were not moved\n",
      "there are files in this path that were not moved\n",
      "there are files in this path that were not moved\n",
      "there are files in this path that were not moved\n",
      "there are files in this path that were not moved\n"
     ]
    }
   ],
   "source": [
    "folder_names = ['csv_files','image_files','pdfs']\n",
    "\n",
    "for loop in range(0,3):\n",
    "    \n",
    "    if not os.path.exists(path + folder_names[loop]):\n",
    "        print(path + folder_names[loop])\n",
    "        os.makedirs(path + folder_names[loop])\n",
    "        \n",
    "        \n",
    "        \n",
    "        \n",
    "for file in file_name:\n",
    "    if \".csv\" in file and not os.path.exists(path+\"csv_files/\"+file):\n",
    "        shutil.move(path+file,path+'csv_files/'+file)\n",
    "    elif \".png\" in file and not os.path.exists(path+'image_files/'+file):\n",
    "        shutil.move(path+file,path+'image_files/'+file)\n",
    "    elif \".jpg\" in file and not os.path.exists(path+'image_files/'+file):\n",
    "        shutil.move(path+file,path+'image_files/'+file)\n",
    "    elif \".pdf\" in file and not os.path.exists(path+'pdfs/'+file):\n",
    "        shutil.move(path+file,path+'pdfs/'+file)\n",
    "    else:\n",
    "        print('there are files in this path that were not moved')"
   ]
  },
  {
   "cell_type": "code",
   "execution_count": null,
   "id": "098af678-2eb9-4358-bc21-1f1e3aafa2f9",
   "metadata": {},
   "outputs": [],
   "source": []
  }
 ],
 "metadata": {
  "kernelspec": {
   "display_name": "Python 3 (ipykernel)",
   "language": "python",
   "name": "python3"
  },
  "language_info": {
   "codemirror_mode": {
    "name": "ipython",
    "version": 3
   },
   "file_extension": ".py",
   "mimetype": "text/x-python",
   "name": "python",
   "nbconvert_exporter": "python",
   "pygments_lexer": "ipython3",
   "version": "3.9.7"
  }
 },
 "nbformat": 4,
 "nbformat_minor": 5
}
